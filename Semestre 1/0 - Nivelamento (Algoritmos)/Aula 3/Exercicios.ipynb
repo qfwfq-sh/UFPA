{
 "cells": [
  {
   "cell_type": "markdown",
   "id": "ddc26d5c",
   "metadata": {},
   "source": [
    "1. Peça um número ao usuário, verifique se esse número está entre 0 e 100 e exiba o resultado.\n",
    "\n",
    "2. Peça ao usuário que insira um número e depois informe na tela se esse valor é par ou ímpar.\n",
    "\n",
    "3. Peça um número ao usuário, verifique se o número é positivo, negativo ou igual a zero.\n",
    "\n",
    "4. Leia o ano atual e o ano de nascimento de uma pessoa. Escreva na tela uma mensagem se ela já tem idade de tirar a CNH ou não.\n",
    "\n",
    "5. Faça um programa que recebe 3 números (abates, mortes e assistências) de um jogador e diga se o saldo dele no jogo (saldo = (abates + assistências) - mortes) é positivo (maior que 0) ou negativo (menor que 0) ou neutro (igual a 0).\n",
    "\n",
    "6. Em um verdureiro, as maçãs custam R\\$0.50 por unidade e R\\$0.45 quando pelo menos 12 unidades são compradas. Escreva um programa que leia o número de maçãs compradas, calcule e escreva o valor total da compra.\n",
    "\n",
    "7. Na ufpa, o conceito final é decidido pela média aritmética das 3 notas de um aluno. Inferior a 5: \"Insuficiente\". Entre 5 e 6.9: \"Regular\". Entre 7 e 8.9: \"Bom\". Maior ou igual a 9: \"Excelente\". Faça um programa que receba três notas de um aluno, exiba o conceito final juntamente de uma mensagem.\n",
    "\n",
    "8. Sabe-se que uma pessoa é considerada \"Criança\" se ela tem entre 0 e 11 anos, \"Adolescente\" se ela tem entre 12 e 17 anos, \"Adulta\" se ela tem entre 18 e 59 anos e \"Idosa\" se ela tem 60 ou mais anos. Faça um programa que receba a idade de uma pessoa e exiba sua classificação etária.\n",
    "\n",
    "9. Em um parque de diversões, existe um brinquedo que não permite a entrada de crianças com algura inferior a 1.2m, permite a entrada de crianças com altura entre 1.2m e 1.5m, caso estejam acompanhadas de um responsável e permite a entrada de crianças com altura maior que 1.5m. Faça um programa que receba a altura da criança e exiba a situação.\n",
    "\n",
    "10. Faça uma calculadora com as operações de adição, subtração, multiplicação e divisão com dois números.\n",
    "\n",
    "11. Faça um programa que calcule o IMC de uma pessoa e classifique se é abaixo do peso (IMC menor que 18.5), normal (IMC entre 18.5 e 25), sobrepeso (IMC entre 25 e 30) ou obesidade (IMC maior que 30).\n",
    "\n",
    "12. Crie um programa que receba 3 números e retorne a soma dos menores números.\n",
    "\n",
    "13. Peça 3 números ao usuário e verifique se é um triângulo. Caso seja um triângulo, diga se é equilátero (3 lados iguais) ou isósceles (2 lados iguais) ou escaleno (3 lados diferentes).\n",
    "\n",
    "14. Crie um algoritmo que leia um número inteiro entre 1 e 12 e escreva o mês correspondente. Além disso, escreva o semestre que esse mês se encontra e a estação do ano. Caso o usuário digite um número fora desse intervalo, coloque uma mensagem de erro.\n",
    "\n",
    "15. A prefeitura de Belém abriu uma linha de crédito para os funcionários. O valor máximo da prestação não poderá ultrapassar 25% do salário bruto. Faça um algoritmo onde o usuário informa o salário bruto e o valor da prestação. Após isso, informe se o valor pode ser concedido.\n",
    "\n",
    "16. Peça que o usuário insira um ano.Retorne True se o ano for bissexto e False se não for.\n",
    "\n",
    "17. Uma transportadora possui três tipos de entrega: Normal, Rápida e Expressa. Cada entrega possui uma táxa por Km: Normal - R\\$1.00, Rápida - R\\$1.50 e Expressa - R\\$2.00. Faça um programa que receba a distância da entrega, o tipo de entrega que será utilizada e o valor do frete.\n",
    "\n",
    "18. Uma loja oferece 5% de desconto para clientes que pagarem utilizando cartão de crédito, nenhum para quem utilizar o cartão de débito e 10% para quem utilizar pix. Faça um programa que receba o valor da compra, a forma de pagamento e exiba o valor final da compra."
   ]
  }
 ],
 "metadata": {
  "language_info": {
   "name": "python"
  }
 },
 "nbformat": 4,
 "nbformat_minor": 5
}
