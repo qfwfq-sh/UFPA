{
 "cells": [
  {
   "cell_type": "markdown",
   "id": "d598b3b6",
   "metadata": {},
   "source": [
    "# Aula 2: Exercícios\n",
    "\n",
    "1. Crie um algoritmo que receba um nome e exiba uma mensagem de boas vindas\n",
    "\n",
    "2. Crie um programa que recebe dois valores e depois troca os valores entre eles.\n",
    "\n",
    "3. Crie uma variável que armazene o cálculo de outras duas variáveis e depois mostre o resultado.\n",
    "\n",
    "4. Faça um programa que receba dois números e exiba a soma, subtração, multiplicação e divisão entre eles.\n",
    "\n",
    "5. Receba um número de horas e converta para minutos.\n",
    "\n",
    "6. O setor de RH de uma empresa identificou que o salário médio bruto dos colaboradores é de R$5600,00. Em média, os descontros chegam a 15% desse valor. Calcule e exiba o salário médio líquido dos colaboradores.\n",
    "\n",
    "7. Crie um programa que recebe 5 valores, calcule a média aritmética entre eles e mostre o resultado.\n",
    "\n",
    "8. Crie um programa que recebe 2 valores, calcula e exiba o triplo dos dois.\n",
    "\n",
    "9. Faça um programa que calcula a área de um triângulo.\n",
    "\n",
    "10. Crie uma variável para armazenar o raio de um círculo. Calcule e exiba a área do círculo e o comprimento da circunferência.\n",
    "\n",
    "11. Faça um programa que peça uma temperatura em Fahrenheit ao usuário, converta para graus Celsius e exiba o resultado.\n",
    "\n",
    "12. Crie um programa que peça uma distância em KM, converta para milhas e exiba o resultado.\n",
    "\n",
    "13. Faça um programa que peça um número inteiro ao usuário e mostre o seu antecessor e o seu sucessor.\n",
    "\n",
    "14. Um taxista trabalha 8 horas por dia e recebe R$20 por hora. Crie um programa que peça a quantidade de dias por mês que ele trabalha e calcule o seu salário.\n",
    "\n",
    "15. Faça um programa que receba via teclado o seu nome, sua idade e seu curso e exiba no formato: \"Olá, [nome]! Você tem [idade] anos e faz [curso]!\".\n",
    "\n",
    "16. Faça um programa que receba via teclado o valor de um produto e o valor de desconto. Retorne o valor final a ser pago.\n",
    "\n",
    "17. Peça um número x e mostre a string \"\\:)\" x vezes. Exemplo: x = 2, saída será \"\\:) \\:)\".\n",
    "\n",
    "18. Faça um algoritmo que recebe o salário de um funcionário e o percentual de reajuste. Calcule esse valor e mostre na tela o novo salário."
   ]
  },
  {
   "cell_type": "code",
   "execution_count": null,
   "id": "933e2bd3",
   "metadata": {
    "vscode": {
     "languageId": "plaintext"
    }
   },
   "outputs": [],
   "source": [
    "print(\"Hello World\")"
   ]
  }
 ],
 "metadata": {
  "language_info": {
   "name": "python"
  }
 },
 "nbformat": 4,
 "nbformat_minor": 5
}
