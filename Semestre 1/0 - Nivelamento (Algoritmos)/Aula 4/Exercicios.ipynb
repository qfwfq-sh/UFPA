{
 "cells": [
  {
   "cell_type": "markdown",
   "id": "3459d955",
   "metadata": {},
   "source": [
    "1. Peça um número ao usuário e exiba a tabuada desse número.\n",
    "\n",
    "2. Faça um programa que recebe um valor \"n\" e faz uma contagem regressiva de uma bomba até 0. Ao chegar em 0, mostre uma mensagem de \"Kabum!\". Todos os valores devem aparecer na tela até a bomba explodir.\n",
    "\n",
    "3. Peça um número ao usuário e exiba o fatorial desse número.\n",
    "\n",
    "4. Faça um programa que receba dois números (x e y). Retorne todos os números entre 0 e x**y.\n",
    "\n",
    "5. Faça um programa que aumente um número (começando em 0) de 10 em 10, enquanto o usuário não disser para parar.\n",
    "\n",
    "6. Faça um programa que receba um número e exiba a tabuada exponencial (x¹, x², x³, ...) do número.\n",
    "\n",
    "7. Faça um programa onde o usuário insere uma frase normal e um valor qualquer, então, exiba na tela a mensagem de \"Sua frase foi atacada pelo vírus do MUEHEHE ₍^. .^₎⟆\". Então, repita a fase \"MUEHEHE ₍^. .^₎⟆\" de acordo com o valor que o usuário deu.\n",
    "\n",
    "8. Crie um menu com 3 opções: 1 - dizer \"Oi\", 2 - dizer \"Tchau\" e 3 - Sair. O programa deve pedir opções ao usuário até que a opção 3 seja escolhida.\n",
    "\n",
    "9. Faça um programa que receba diversos valores (um por vez) e continue lendo os valores até que o usuário digite o \"0\". Logo depois, exiba a média dos números digitados (ignorando o 0).\n",
    "\n",
    "10. Calcule e exiba a soma de todos os números primos de 1 a 50.\n",
    "\n",
    "11. Crie um programa que peça o salário e a idade de 10 pessoas. Ao final, mostre na tela: A média das idades, a média dos salários.\n",
    "\n",
    "12. Faça um programa que receba um número e exiba a string \"Oi\" do tamanho do número. Exemplo: x = 2, saída: \"Oii\"\n",
    "\n",
    "13. Faça um programa que recebe uma string e exiba a string invertida.\n",
    "\n",
    "14. Faça um programa que recebe uma string e verifique se ela é um palíndromo.\n",
    "\n",
    "15. Faça um programa que receba um número e exiba a soma dos dígitos desse número.\n",
    "\n",
    "16. Faça uma calculadora básica (soma, subtração, multiplicação e divisão) que o usuário possa parar ela a qualquer momento.\n",
    "\n",
    "17. Faça um programa que gere os primeiros n números triangulares (sequência onde cada termo é a soma dos naturais até n). Exemplo: 1, 3, 6, 10, 15 # (1, 1+2, 1+2+3, ...)\n",
    "\n",
    "18. Calcule a soma da série harmônica (1 + 1/2 + 1/3 + ... + 1/n) até que o termo 1/n seja menor que 0.001.\n",
    "\n",
    "19. Peça um número n ao usuário, calcule e exiba os primeiros n termos da sequência de Fibonacci.\n",
    "\n",
    "20. Peça dois números. Retorne True se eles forem primos entre si e False se não forem.\n",
    "\n",
    "21. Faça um programa que receba 5 números e exiba eles de forma ordenada (crescente).\n",
    "\n",
    "22. Faça um programa que receba um ano inicial e um ano final. Exiba os anos bissextos entre esses 2 anos.\n",
    "\n",
    "23. Faça um programa que implemente uma caixa registradora. O programa deverá receber um número desconhecido de valores referentes à preços. Um valor zero informado pelo operador deve indicar o final da compra. O programa deve mostrar o valor total e receber o valor em dinheiro do pagamento. Depois deve calcular e mostrar o valor do troco.\n",
    "\n",
    "24. Faça um programa que peça um valor n e imprima uma pirâmide invertida de asteriscos. Exemplo:\n",
    "![](https://i.imgur.com/1aZAZZv.png)"
   ]
  }
 ],
 "metadata": {
  "language_info": {
   "name": "python"
  }
 },
 "nbformat": 4,
 "nbformat_minor": 5
}
