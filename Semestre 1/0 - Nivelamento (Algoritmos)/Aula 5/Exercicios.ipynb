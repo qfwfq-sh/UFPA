{
 "cells": [
  {
   "cell_type": "markdown",
   "id": "3f910c0c",
   "metadata": {},
   "source": [
    "1. Escreva um programa que receba uma lista de números e retorne a soma de todos os elementos. Sem usar funções prontas do python!"
   ]
  },
  {
   "cell_type": "code",
   "execution_count": 14,
   "id": "7d6a278d",
   "metadata": {},
   "outputs": [
    {
     "name": "stdout",
     "output_type": "stream",
     "text": [
      "A lista final é: [2, 5, 8]\n",
      "O resultado da soma de todos os itens da lista é: 15\n"
     ]
    }
   ],
   "source": [
    "lista = []\n",
    "soma = 0\n",
    "\n",
    "item = int(input(\"Digite o número que deve ser adicionado à lista: \"))\n",
    "\n",
    "while item != 0:\n",
    "    lista.append(item)\n",
    "    item = int(input(\"Digite o número que deve ser adicionado à lista: \"))\n",
    "\n",
    "for i in lista:\n",
    "    soma += i\n",
    "\n",
    "print(f\"A lista final é: {lista}\")\n",
    "print(f\"O resultado da soma de todos os itens da lista é: {soma}\")\n",
    "    "
   ]
  },
  {
   "cell_type": "markdown",
   "id": "b63658df",
   "metadata": {},
   "source": [
    "2. Dada uma lista de números, encontre o maior e o menor valor presente na lista. Sem usar funções prontas do python!"
   ]
  },
  {
   "cell_type": "code",
   "execution_count": 45,
   "id": "62351c30",
   "metadata": {},
   "outputs": [
    {
     "name": "stdout",
     "output_type": "stream",
     "text": [
      "Lista final: [-1, 5, -25, 6, 9, 10, 12236]\n",
      "O maior item da lista: 12236\n",
      "O menor item da lista: -25\n"
     ]
    }
   ],
   "source": [
    "lista = []\n",
    "menor = 0\n",
    "maior = 0\n",
    "\n",
    "item = int(input(\"Digite um número para ser adicionado à lista (zero para sair): \"))\n",
    "\n",
    "while item != 0:\n",
    "    menor = item\n",
    "    lista.append(item)\n",
    "    item = int(input(\"Digite um número para ser adicionado à lista (zero para sair): \"))\n",
    "\n",
    "for item in lista:\n",
    "    if item > maior:\n",
    "        maior = item\n",
    "    if item < menor:\n",
    "        menor = item    \n",
    "\n",
    "\n",
    "print(f\"Lista final: {lista}\")\n",
    "print(f\"O maior item da lista: {maior}\\nO menor item da lista: {menor}\")"
   ]
  },
  {
   "cell_type": "markdown",
   "id": "b8ece093",
   "metadata": {},
   "source": [
    "3. Dada uma lista e um número específico, conte quantas vezes esse número aparece na lista. Sem usar funções prontas do python!"
   ]
  },
  {
   "cell_type": "code",
   "execution_count": 47,
   "id": "28805c62",
   "metadata": {},
   "outputs": [
    {
     "name": "stdout",
     "output_type": "stream",
     "text": [
      "Lista: [3, 6, 2, 9, 3, 8, 2, 50, 3, 6, 8, 1, 9, 3]\n",
      "O número 3 aparece 4 vezes na lista!\n"
     ]
    }
   ],
   "source": [
    "lista = []\n",
    "aparicoes = 0\n",
    "\n",
    "item = int(input(\"Digite qual número você quer acrescentar na lista (0 para sair): \"))\n",
    "\n",
    "while item != 0:\n",
    "    lista.append(item)\n",
    "    item = int(input(\"Digite qual número você quer acrescentar na lista (0 para sair): \"))\n",
    "\n",
    "n = int(input(\"Digite qual número você quer contar quantas vezes aparece na lista: \"))\n",
    "\n",
    "for item in lista:\n",
    "    if item == n:\n",
    "        aparicoes += 1\n",
    "\n",
    "print(f\"Lista: {lista}\")\n",
    "print(f\"O número {n} aparece {aparicoes} vezes na lista!\")"
   ]
  },
  {
   "cell_type": "markdown",
   "id": "cfb7c736",
   "metadata": {},
   "source": [
    "\n",
    "\n",
    "4. Faça um programa que receba uma lista de n elementos, calcule e exiba a média dos elementos da lista.\n",
    "\n",
    "5. Multiplique todos os elementos de uma lista por um número de escolha do usuário.\n",
    "\n",
    "6. Dada uma lista de elementos, calcule e exiba a quantidade de elementos presentes nessa lista.\n",
    "\n",
    "7. Dada uma lista de números, preenchida pelo usuário, retorne uma nova lista contendo cada número elevado ao quadrado.\n",
    "\n",
    "8. Peça que o usuário digite um número de 1 a 12 e mostre o mês correspondente, sem utilizar estruturass condicionais.\n",
    "\n",
    "9. Dada uma lista de números, crie e exiba uma lista com os números pares e outra com os números ímpares.\n",
    "\n",
    "10. Dada uma lista de strings, peça ao usuário uma string, verifique e exiba se essa string está presente na lista.\n",
    "\n",
    "11. Fazer um laço que armazene 10 números em uma lista. Retorne a soma de todos os números de índice par.\n",
    "\n",
    "12. Dada uma lista de números, verifique e exiba a quantidade de números negativos.\n",
    "\n",
    "13. Dada uma lista de números, exiba a sua mediana.\n",
    "\n",
    "14. Peça ao usuário para inserir um número e verifique se ele existe na lista. Imprima uma mensagem informando se o número está ou não na lista.\n",
    "\n",
    "15. Dada uma lista fornecida pelo usuário, crie e exiba uma lista apenas com os números primos.\n",
    "\n",
    "16. Dada uma lista de números. Crie e exiba a lista sem números repetidos.\n",
    "\n",
    "17. Dado dois vetores representados por duas listas com 3 elementos, calcule e exiba o produto escalar desses vetores.\n",
    "\n",
    "18. Crie um programa que receba duas listas distintas e retorne uma lista com os elementos em comum das listas.\n",
    "\n",
    "19. Faça um programa que permite adicionar, remover e visualizar elementos de uma lista de forma indeterminada com uma condição de parada.\n",
    "\n",
    "20. Dada uma lista de nomes, crie e exiba uma nova lista com o tamanho de cada nome.\n",
    "\n",
    "21. Dada uma lista de letras desordenadas, retorne a lista em ordem alfabética.\n",
    "\n",
    "22. Peça ao usuário, a partir de dados de entrada, itens para uma lista de compras e os adicione em uma lista chamada \"compras\". Usando um loop, mostre ao usuário todos os itens. O critério de parada é escolha do programador.\n",
    "\n",
    "23. Dada uma lista de números, peça ao usuário um número n e exiba apenas os números maiores que n presentes na lista.\n",
    "\n",
    "24. Dada a lista [1, 2, 3, 4, 5], rotacione 2 posições à direita. Saída esperada: [4, 5, 1, 2, 3]\n",
    "\n",
    "25. Dada uma matriz, calcule e exiba a sua transposta.\n",
    "\n",
    "26. Dada uma lista de números, calcule e exiba a probabilidade de sortear aleatoriamente: um número par, um número ímpar e um número primo.\n",
    "\n",
    "27. Dada uma lista de números, exiba se a lista está em ordem crescente, decrescente ou desordenada.\n",
    "\n",
    "28. Dada uma lista de números, encontre e exiba a maior sublista cujo a soma dos seus elementos é a maior possível (exiba a soma também).\n",
    "\n",
    "29. Sabendo que o ciclo dos animais no zodíaco chinês é: Rato -> Boi -> Tigre -> Coelho -> Dragão -> Serpente -> Cavalo -> Cabra -> Macaco -> Galo -> Cão -> Porco e que 2025 é o ano da serpente. Faça um programa que receba um ano e exiba o animal do zodíaco chinês desse ano.\n",
    "\n",
    "30. Dada uma matriz n x n representada por uma lista contendo n listas com n elementos cada, exiba os elementos da diagonal principal da matriz e a soma deles."
   ]
  }
 ],
 "metadata": {
  "kernelspec": {
   "display_name": "Python 3",
   "language": "python",
   "name": "python3"
  },
  "language_info": {
   "codemirror_mode": {
    "name": "ipython",
    "version": 3
   },
   "file_extension": ".py",
   "mimetype": "text/x-python",
   "name": "python",
   "nbconvert_exporter": "python",
   "pygments_lexer": "ipython3",
   "version": "3.13.2"
  }
 },
 "nbformat": 4,
 "nbformat_minor": 5
}
