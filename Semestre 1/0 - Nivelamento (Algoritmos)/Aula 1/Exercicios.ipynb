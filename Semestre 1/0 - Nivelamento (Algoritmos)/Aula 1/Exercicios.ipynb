{
 "cells": [
  {
   "cell_type": "markdown",
   "id": "20b2743b",
   "metadata": {},
   "source": [
    "# Aula 1: Exercícios\n",
    "\n",
    "1. Escreva um algoritmo para fazer um sanduíche.\n",
    "\n",
    "2. Você tem 6 copos alinhados. Os primeiros três estão cheios de água, e os últimos três estão vazios. Usando apenas uma movimentação, como fazer com que os copos fiquem alternados entre cheios e vazios?\n",
    "\n",
    "3. Um caracol está escalando uma parede de 10 metros. Durante o dia ele sobe 3 metros. Durante a noite ele escorrega 2 metros. Em quantos dias o caracol chega ao topo?\n",
    "\n",
    "4. Carlos, Fernando e Alexandre haviam combinado de se encontrar no estacionamento do estádio às 15h para assistir o jogo de futebol. Fernando, que chegou 20 minutos antes do horário marcado, teve que esperar por meia hora até a chegada de Carlos. Carlos, por sua vez, chegou 10 minutos depois de Alexandre. Que horas Alexandre chegou?\n",
    "\n",
    "5. Um relógio de ponteiros está quebrado e atrasa 5 minutos a cada hora. Se agora são 12:00 e ele continua funcionando sem ajuste, que horas ele mostrará quando o relógio real \n",
    "\n",
    "6. Planeje uma festa de aniversário, dica: Decomponha o problema em partes menores."
   ]
  }
 ],
 "metadata": {
  "language_info": {
   "name": "python"
  }
 },
 "nbformat": 4,
 "nbformat_minor": 5
}
